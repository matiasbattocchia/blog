{
 "cells": [
  {
   "cell_type": "markdown",
   "metadata": {},
   "source": [
    "Este trabajo se propone analizar los arcos emocionales de reportes de experiencias con sustancias psicoactivas.\n",
    "\n",
    "### Arcos emocionales\n",
    "\n",
    "Se llama arco emocional a la evolución de determinada magnitud emocional conforme al curso de una historia, comunmente la valencia, que es el sentimiento de positividad/negatividad del lenguaje, y no distingue entre emociones.\n",
    "\n",
    "### Reportes\n",
    "\n",
    "Los reportes se obtuvieron de erowid.org, el sitio web de una organización que provee información de plantas y químicos psicoactivos así como actividades y tecnologías que producen estados alterados de consciencia.\n",
    "\n",
    "Erowid permite a sus visitantes enviar descripciones de sus experiencias personales con psicoactivos para su revisión y publicación. Su colección consiste en más de 30.000 reportes.\n",
    "\n",
    "### Análisis\n",
    "\n",
    "El análisis sobre los reportes intenta encontrar arcos emocionales típicos según grupos de sustancias.\n",
    "\n",
    "----\n",
    "\n",
    "\n",
    "\n",
    "\n",
    "\n",
    "\n",
    "\n",
    "Backlog\n",
    "* Agrupamiento de emociones\n",
    "* Magnitudes emocionales\n",
    "* Proceso de obtención de reportes"
   ]
  }
 ],
 "metadata": {
  "kernelspec": {
   "display_name": "Python 3",
   "language": "python",
   "name": "python3"
  },
  "language_info": {
   "codemirror_mode": {
    "name": "ipython",
    "version": 3
   },
   "file_extension": ".py",
   "mimetype": "text/x-python",
   "name": "python",
   "nbconvert_exporter": "python",
   "pygments_lexer": "ipython3",
   "version": "3.7.3"
  }
 },
 "nbformat": 4,
 "nbformat_minor": 4
}
