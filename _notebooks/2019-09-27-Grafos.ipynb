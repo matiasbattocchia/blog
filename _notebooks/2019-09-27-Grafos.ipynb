{
 "cells": [
  {
   "cell_type": "markdown",
   "metadata": {
    "slideshow": {
     "slide_type": "slide"
    }
   },
   "source": [
    "# Grafos\n",
    "\n",
    "> \"(˵Φ ω Φ˵) Están por todas partes, pensás todo el tiempo en grafos una vez que los aprendés\"\n",
    "\n",
    "- toc: true\n",
    "- branch: master\n",
    "- badges: true\n",
    "- comments: true\n",
    "- author: Matías Battocchia\n",
    "- categories: [grafos,networkx]"
   ]
  },
  {
   "cell_type": "markdown",
   "metadata": {},
   "source": [
    "Este es el material de una clase que doy en Digital House en el curso de ciencia de datos."
   ]
  },
  {
   "cell_type": "markdown",
   "metadata": {
    "slideshow": {
     "slide_type": "slide"
    }
   },
   "source": [
    "### ¿Qué es un grafo?"
   ]
  },
  {
   "cell_type": "markdown",
   "metadata": {
    "slideshow": {
     "slide_type": "fragment"
    }
   },
   "source": [
    "![](https://upload.wikimedia.org/wikipedia/commons/5/5b/6n-graf.svg)"
   ]
  },
  {
   "cell_type": "markdown",
   "metadata": {
    "slideshow": {
     "slide_type": "fragment"
    }
   },
   "source": [
    "* Red — grafo, *graph*\n",
    "  * Nodos — vértices, *nodes*\n",
    "  * Conexiones — aristas, bordes, *edges*"
   ]
  },
  {
   "cell_type": "markdown",
   "metadata": {
    "slideshow": {
     "slide_type": "slide"
    }
   },
   "source": [
    "### ¿Para qué sirven?"
   ]
  },
  {
   "cell_type": "markdown",
   "metadata": {
    "slideshow": {
     "slide_type": "subslide"
    }
   },
   "source": [
    "#### Redes de transporte\n",
    "\n",
    "![](https://sites.google.com/site/aplicaciongrafos/_/rsrc/1320026146976/home/ciudades.PNG)"
   ]
  },
  {
   "cell_type": "markdown",
   "metadata": {
    "slideshow": {
     "slide_type": "subslide"
    }
   },
   "source": [
    "#### Redes de interacción\n",
    "\n",
    "![](https://upload.wikimedia.org/wikipedia/commons/thumb/e/ef/Network_representation_of_brain_connectivity.JPG/1280px-Network_representation_of_brain_connectivity.JPG)"
   ]
  },
  {
   "cell_type": "markdown",
   "metadata": {
    "slideshow": {
     "slide_type": "subslide"
    }
   },
   "source": [
    "#### Redes de comunicación\n",
    "\n",
    "![](https://www.researchgate.net/profile/Santiago_Bianco/publication/309278789/figure/fig25/AS:750920430284803@1556044790504/Ejemplo-de-red-de-comunicacion-con-componentes-electronicos-y-su-posible-modelizacion.jpg)"
   ]
  },
  {
   "cell_type": "markdown",
   "metadata": {
    "slideshow": {
     "slide_type": "subslide"
    }
   },
   "source": [
    "Es una estructura de datos útil para representar:\n",
    "\n",
    "* redes sociales\n",
    "* máquinas de estado\n",
    "* moléculas\n",
    "* mapas conceptuales\n",
    "* estructura del lenguaje\n",
    "* redes de transporte\n",
    "* y mucho más..."
   ]
  },
  {
   "cell_type": "markdown",
   "metadata": {
    "slideshow": {
     "slide_type": "fragment"
    }
   },
   "source": [
    "Ver [glosario de teoría de grafos](https://es.wikipedia.org/wiki/Anexo:Glosario_de_teor%C3%ADa_de_grafos)."
   ]
  },
  {
   "cell_type": "markdown",
   "metadata": {
    "slideshow": {
     "slide_type": "slide"
    }
   },
   "source": [
    "## NetworkX"
   ]
  },
  {
   "cell_type": "markdown",
   "metadata": {
    "slideshow": {
     "slide_type": "fragment"
    }
   },
   "source": [
    "https://networkx.github.io\n",
    "\n",
    "NetworkX es un paquete de Python para la creación, manipulación, y el estudio de la estructura, dinámica, y las funciones de las redes complejas."
   ]
  },
  {
   "cell_type": "code",
   "execution_count": null,
   "metadata": {
    "slideshow": {
     "slide_type": "fragment"
    }
   },
   "outputs": [],
   "source": [
    "!pip install --upgrade networkx"
   ]
  },
  {
   "cell_type": "code",
   "execution_count": 12,
   "metadata": {
    "slideshow": {
     "slide_type": "fragment"
    }
   },
   "outputs": [],
   "source": [
    "%matplotlib inline\n",
    "\n",
    "import networkx as nx\n",
    "\n",
    "G = nx.Graph()"
   ]
  },
  {
   "cell_type": "code",
   "execution_count": 24,
   "metadata": {
    "slideshow": {
     "slide_type": "subslide"
    }
   },
   "outputs": [
    {
     "data": {
      "image/png": "[encoded data removed]",
      "text/plain": [
       "<Figure size 432x288 with 1 Axes>"
      ]
     },
     "metadata": {},
     "output_type": "display_data"
    }
   ],
   "source": [
    "G.add_node('Buenos Aires')\n",
    "G.add_node('Córdoba')\n",
    "G.add_node('Mendoza')\n",
    "\n",
    "nx.draw(G)"
   ]
  },
  {
   "cell_type": "code",
   "execution_count": 25,
   "metadata": {
    "slideshow": {
     "slide_type": "subslide"
    }
   },
   "outputs": [
    {
     "data": {
      "image/png": "[encoded data removed]",
      "text/plain": [
       "<Figure size 432x288 with 1 Axes>"
      ]
     },
     "metadata": {},
     "output_type": "display_data"
    }
   ],
   "source": [
    "G.add_edge('Buenos Aires', 'Córdoba', distancia=647)\n",
    "G.add_edge('Buenos Aires', 'Mendoza', distancia=948)\n",
    "G.add_edge('Córdoba',      'Mendoza', distancia=682)\n",
    "\n",
    "nx.draw(G)"
   ]
  },
  {
   "cell_type": "code",
   "execution_count": 26,
   "metadata": {
    "slideshow": {
     "slide_type": "subslide"
    }
   },
   "outputs": [
    {
     "data": {
      "image/png": "[encoded data removed]",
      "text/plain": [
       "<Figure size 432x288 with 1 Axes>"
      ]
     },
     "metadata": {},
     "output_type": "display_data"
    }
   ],
   "source": [
    "G.add_edge('Tucumán','Salta', distancia=227)\n",
    "\n",
    "nx.draw(G)"
   ]
  },
  {
   "cell_type": "markdown",
   "metadata": {
    "slideshow": {
     "slide_type": "fragment"
    }
   },
   "source": [
    "* **Subgrafo**: subconjunto de nodos y conexiones.\n",
    "* **Componente conectada**: grupo de nodos conectados."
   ]
  },
  {
   "cell_type": "code",
   "execution_count": 54,
   "metadata": {
    "slideshow": {
     "slide_type": "subslide"
    }
   },
   "outputs": [
    {
     "data": {
      "text/plain": [
       "NodeView(('Buenos Aires', 'Córdoba', 'Mendoza', 'Tucumán', 'Salta'))"
      ]
     },
     "execution_count": 54,
     "metadata": {},
     "output_type": "execute_result"
    }
   ],
   "source": [
    "G.nodes"
   ]
  },
  {
   "cell_type": "code",
   "execution_count": 55,
   "metadata": {
    "slideshow": {
     "slide_type": "fragment"
    }
   },
   "outputs": [
    {
     "data": {
      "text/plain": [
       "EdgeView([('Buenos Aires', 'Córdoba'), ('Buenos Aires', 'Mendoza'), ('Córdoba', 'Mendoza'), ('Tucumán', 'Salta')])"
      ]
     },
     "execution_count": 55,
     "metadata": {},
     "output_type": "execute_result"
    }
   ],
   "source": [
    "G.edges"
   ]
  },
  {
   "cell_type": "code",
   "execution_count": 57,
   "metadata": {
    "slideshow": {
     "slide_type": "fragment"
    }
   },
   "outputs": [
    {
     "data": {
      "text/plain": [
       "2"
      ]
     },
     "execution_count": 57,
     "metadata": {},
     "output_type": "execute_result"
    }
   ],
   "source": [
    "# grado de un nodo (cantidad de conexiones)\n",
    "G.degree['Mendoza']"
   ]
  },
  {
   "cell_type": "markdown",
   "metadata": {
    "slideshow": {
     "slide_type": "subslide"
    }
   },
   "source": [
    "### Graficando"
   ]
  },
  {
   "cell_type": "code",
   "execution_count": 53,
   "metadata": {
    "slideshow": {
     "slide_type": "fragment"
    }
   },
   "outputs": [
    {
     "data": {
      "image/png": "[encoded data removed]",
      "text/plain": [
       "<Figure size 432x288 with 1 Axes>"
      ]
     },
     "metadata": {},
     "output_type": "display_data"
    }
   ],
   "source": [
    "# posiciones de los nodos; elegir un *layout*\n",
    "pos=nx.planar_layout(G)\n",
    "\n",
    "# dibujar etiquetas\n",
    "nx.draw_networkx_labels(G, pos=pos)\n",
    "\n",
    "# dibujar nodos\n",
    "nx.draw_networkx_nodes(G, pos=pos)\n",
    "\n",
    "# dibujar conexiones\n",
    "nx.draw_networkx_edges(G, pos=pos);"
   ]
  },
  {
   "cell_type": "markdown",
   "metadata": {
    "slideshow": {
     "slide_type": "fragment"
    }
   },
   "source": [
    "Graficar grafos no es una tarea sencilla y NetworkX lo deja en mano de otras aplicaciones, como [Gephi](https://gephi.org)."
   ]
  },
  {
   "cell_type": "markdown",
   "metadata": {
    "slideshow": {
     "slide_type": "slide"
    }
   },
   "source": [
    "## Tipos de grafos"
   ]
  },
  {
   "cell_type": "markdown",
   "metadata": {
    "slideshow": {
     "slide_type": "subslide"
    }
   },
   "source": [
    "### Dirigido\n",
    "\n",
    "`nx.DiGraph`\n",
    "\n",
    "![](https://upload.wikimedia.org/wikipedia/commons/a/a2/Directed.svg)"
   ]
  },
  {
   "cell_type": "markdown",
   "metadata": {
    "slideshow": {
     "slide_type": "subslide"
    }
   },
   "source": [
    "### Multigrafo\n",
    "\n",
    "`nx.MultiGraph`, `nx.MultiDiGraph`\n",
    "\n",
    "![](https://upload.wikimedia.org/wikipedia/commons/c/c9/Multi-pseudograph.svg)"
   ]
  },
  {
   "cell_type": "markdown",
   "metadata": {
    "slideshow": {
     "slide_type": "slide"
    }
   },
   "source": [
    "## Algoritmos comunes"
   ]
  },
  {
   "cell_type": "markdown",
   "metadata": {
    "slideshow": {
     "slide_type": "subslide"
    }
   },
   "source": [
    "### Grafo de ejemplo: Familias florentinas\n",
    "\n",
    "Familias que se disputaron el control político de la ciudad de Florencia alrededor de 1430. Dos facciones fueron dominantes en la disputa: Medicis y Strozzis.\n",
    "\n",
    "Dataset de uniones maritales y de negocio entre familias.\n",
    "\n",
    "Fuente: *Padgett, J. F., & Ansell, C. K. (1993). Robust Action and the Rise of the Medici, 1400-1434. American Journal of Sociology, 98(6), 1259-1319.*"
   ]
  },
  {
   "cell_type": "code",
   "execution_count": 3,
   "metadata": {
    "slideshow": {
     "slide_type": "subslide"
    }
   },
   "outputs": [
    {
     "data": {
      "image/png": "[encoded data removed]",
      "text/plain": [
       "<Figure size 432x288 with 1 Axes>"
      ]
     },
     "metadata": {},
     "output_type": "display_data"
    }
   ],
   "source": [
    "G = nx.florentine_families_graph()\n",
    "\n",
    "nx.draw_networkx(G)"
   ]
  },
  {
   "cell_type": "code",
   "execution_count": 4,
   "metadata": {},
   "outputs": [
    {
     "data": {
      "text/plain": [
       "NodeView(('Acciaiuoli', 'Medici', 'Castellani', 'Peruzzi', 'Strozzi', 'Barbadori', 'Ridolfi', 'Tornabuoni', 'Albizzi', 'Salviati', 'Pazzi', 'Bischeri', 'Guadagni', 'Ginori', 'Lamberteschi'))"
      ]
     },
     "execution_count": 4,
     "metadata": {},
     "output_type": "execute_result"
    }
   ],
   "source": [
    "G.nodes"
   ]
  },
  {
   "cell_type": "markdown",
   "metadata": {
    "slideshow": {
     "slide_type": "subslide"
    }
   },
   "source": [
    "## Componentes conectadas\n",
    "\n",
    "https://en.wikipedia.org/wiki/Component_(graph_theory)\n",
    "\n",
    "![](https://upload.wikimedia.org/wikipedia/commons/8/85/Pseudoforest.svg)"
   ]
  },
  {
   "cell_type": "code",
   "execution_count": 64,
   "metadata": {
    "slideshow": {
     "slide_type": "fragment"
    }
   },
   "outputs": [
    {
     "name": "stdout",
     "output_type": "stream",
     "text": [
      "{'Strozzi', 'Bischeri', 'Acciaiuoli', 'Salviati', 'Pazzi', 'Castellani', 'Ridolfi', 'Albizzi', 'Peruzzi', 'Medici', 'Ginori', 'Lamberteschi', 'Barbadori', 'Tornabuoni', 'Guadagni'}\n"
     ]
    }
   ],
   "source": [
    "# el grafo de ejemplo solo tiene una componente conectada\n",
    "for sub_graph in nx.connected_components(G):\n",
    "    print(sub_graph)"
   ]
  },
  {
   "cell_type": "markdown",
   "metadata": {
    "slideshow": {
     "slide_type": "subslide"
    }
   },
   "source": [
    "## El camino más corto\n",
    "\n",
    "https://en.wikipedia.org/wiki/Shortest_path_problem\n",
    "\n",
    "![](https://upload.wikimedia.org/wikipedia/commons/3/3b/Shortest_path_with_direct_weights.svg)\n",
    "\n",
    "* **Camino**: secuencia de nodos conectados.\n",
    "\n",
    "#### Aplicaciones\n",
    "\n",
    "* Google Maps\n",
    "* LinkedIn"
   ]
  },
  {
   "cell_type": "code",
   "execution_count": 7,
   "metadata": {
    "slideshow": {
     "slide_type": "fragment"
    }
   },
   "outputs": [
    {
     "data": {
      "text/plain": [
       "['Medici', 'Ridolfi', 'Strozzi']"
      ]
     },
     "execution_count": 7,
     "metadata": {},
     "output_type": "execute_result"
    }
   ],
   "source": [
    "nx.shortest_path(G, source='Medici', target='Strozzi', weight=None)"
   ]
  },
  {
   "cell_type": "markdown",
   "metadata": {
    "slideshow": {
     "slide_type": "subslide"
    }
   },
   "source": [
    "## Árbol recubridor mínimo\n",
    "\n",
    "https://en.wikipedia.org/wiki/Minimum_spanning_tree\n",
    "\n",
    "![](https://upload.wikimedia.org/wikipedia/commons/d/d2/Minimum_spanning_tree.svg)\n",
    "\n",
    "#### Aplicaciones\n",
    "\n",
    "* Tendido de redes"
   ]
  },
  {
   "cell_type": "code",
   "execution_count": 4,
   "metadata": {
    "slideshow": {
     "slide_type": "fragment"
    }
   },
   "outputs": [
    {
     "data": {
      "image/png": "[encoded data removed]",
      "text/plain": [
       "<Figure size 432x288 with 1 Axes>"
      ]
     },
     "metadata": {},
     "output_type": "display_data"
    }
   ],
   "source": [
    "mst = nx.minimum_spanning_tree(G, weight=None)\n",
    "\n",
    "nx.draw_networkx(mst)"
   ]
  },
  {
   "cell_type": "markdown",
   "metadata": {
    "slideshow": {
     "slide_type": "subslide"
    }
   },
   "source": [
    "## Pagerank\n",
    "\n",
    "https://en.wikipedia.org/wiki/PageRank\n",
    "\n",
    "![](https://upload.wikimedia.org/wikipedia/en/8/8b/PageRanks-Example.jpg)"
   ]
  },
  {
   "cell_type": "code",
   "execution_count": 5,
   "metadata": {
    "slideshow": {
     "slide_type": "fragment"
    }
   },
   "outputs": [
    {
     "data": {
      "text/plain": [
       "[('Medici', 0.14581844065218275),\n",
       " ('Guadagni', 0.09839859717156552),\n",
       " ('Strozzi', 0.08809849082725613),\n",
       " ('Albizzi', 0.079121502380729),\n",
       " ('Tornabuoni', 0.07127928374676082)]"
      ]
     },
     "execution_count": 5,
     "metadata": {},
     "output_type": "execute_result"
    }
   ],
   "source": [
    "rank = nx.pagerank(G, weight=None)\n",
    "\n",
    "sorted(rank.items(), key=lambda item: item[1], reverse=True)[:5]"
   ]
  },
  {
   "cell_type": "markdown",
   "metadata": {
    "slideshow": {
     "slide_type": "fragment"
    }
   },
   "source": [
    "Ejemplo de uso en aprendizaje automático: [Red de influencia de inversores](https://towardsdatascience.com/investor-network-of-influence-f80f2a1af43f)."
   ]
  },
  {
   "cell_type": "markdown",
   "metadata": {
    "slideshow": {
     "slide_type": "subslide"
    }
   },
   "source": [
    "## Intermediación\n",
    "\n",
    "https://en.wikipedia.org/wiki/Betweenness_centrality\n",
    "\n",
    "![](https://upload.wikimedia.org/wikipedia/commons/6/60/Graph_betweenness.svg)"
   ]
  },
  {
   "cell_type": "code",
   "execution_count": 6,
   "metadata": {
    "slideshow": {
     "slide_type": "fragment"
    }
   },
   "outputs": [
    {
     "data": {
      "text/plain": [
       "[('Medici', 0.521978021978022),\n",
       " ('Guadagni', 0.2545787545787546),\n",
       " ('Albizzi', 0.21245421245421245),\n",
       " ('Salviati', 0.14285714285714288),\n",
       " ('Ridolfi', 0.11355311355311355)]"
      ]
     },
     "execution_count": 6,
     "metadata": {},
     "output_type": "execute_result"
    }
   ],
   "source": [
    "rank = nx.betweenness_centrality(G, weight=None)\n",
    "\n",
    "sorted(rank.items(), key=lambda item: item[1], reverse=True)[:5]"
   ]
  },
  {
   "cell_type": "markdown",
   "metadata": {
    "slideshow": {
     "slide_type": "subslide"
    }
   },
   "source": [
    "### Modularidad\n",
    "\n",
    "https://en.wikipedia.org/wiki/Modularity_(networks)\n",
    "\n",
    "![](https://www.pnas.org/content/pnas/103/23/8577/F1.large.jpg)"
   ]
  },
  {
   "cell_type": "code",
   "execution_count": 70,
   "metadata": {
    "slideshow": {
     "slide_type": "fragment"
    }
   },
   "outputs": [
    {
     "data": {
      "text/plain": [
       "[frozenset({'Acciaiuoli',\n",
       "            'Medici',\n",
       "            'Pazzi',\n",
       "            'Ridolfi',\n",
       "            'Salviati',\n",
       "            'Tornabuoni'}),\n",
       " frozenset({'Barbadori', 'Bischeri', 'Castellani', 'Peruzzi', 'Strozzi'}),\n",
       " frozenset({'Albizzi', 'Ginori', 'Guadagni', 'Lamberteschi'})]"
      ]
     },
     "execution_count": 70,
     "metadata": {},
     "output_type": "execute_result"
    }
   ],
   "source": [
    "nx.algorithms.community.modularity_max.greedy_modularity_communities(G)"
   ]
  },
  {
   "cell_type": "markdown",
   "metadata": {
    "slideshow": {
     "slide_type": "slide"
    }
   },
   "source": [
    "### Índice Adamic/Adar\n",
    "\n",
    "https://en.wikipedia.org/wiki/Adamic/Adar_index\n",
    "\n",
    "![](https://www.researchgate.net/profile/Giulio_Rossetti/publication/281319964/figure/fig7/AS:614383981961223@1523491964917/Link-Prediction-an-example.png)\n",
    "\n",
    "#### Aplicaciones\n",
    "* Recomendación de contactos\n",
    "* Recomendación de productos"
   ]
  },
  {
   "cell_type": "code",
   "execution_count": 12,
   "metadata": {
    "slideshow": {
     "slide_type": "fragment"
    }
   },
   "outputs": [
    {
     "name": "stdout",
     "output_type": "stream",
     "text": [
      "('Medici', 'Strozzi', 0.9102392266268373)\n",
      "('Medici', 'Pazzi', 1.4426950408889634)\n"
     ]
    }
   ],
   "source": [
    "predicciones = nx.adamic_adar_index(G, ebunch=[('Medici', 'Strozzi'), ('Medici', 'Pazzi')])\n",
    "\n",
    "for predicción in predicciones:\n",
    "    print(predicción)"
   ]
  },
  {
   "cell_type": "markdown",
   "metadata": {
    "slideshow": {
     "slide_type": "slide"
    }
   },
   "source": [
    "## Pandas"
   ]
  },
  {
   "cell_type": "code",
   "execution_count": 7,
   "metadata": {
    "slideshow": {
     "slide_type": "fragment"
    }
   },
   "outputs": [],
   "source": [
    "import pandas as pd\n",
    "\n",
    "URL = 'http://cdn.buenosaires.gob.ar/datosabiertos/datasets/bicicletas-publicas/recorridos-realizados-2019.csv'\n",
    "ARCHIVO = 'muestreo_recorridos.csv.gz'\n",
    "\n",
    "df = pd.read_csv(ARCHIVO, low_memory=False)"
   ]
  },
  {
   "cell_type": "code",
   "execution_count": 9,
   "metadata": {
    "slideshow": {
     "slide_type": "fragment"
    }
   },
   "outputs": [
    {
     "name": "stdout",
     "output_type": "stream",
     "text": [
      "<class 'pandas.core.frame.DataFrame'>\n",
      "RangeIndex: 2850451 entries, 0 to 2850450\n",
      "Data columns (total 19 columns):\n",
      "id_usuario                    object\n",
      "edad_usuario                  float64\n",
      "genero_usuario                object\n",
      "fecha_origen_recorrido        object\n",
      "id_estacion_origen            object\n",
      "nombre_estacion_origen        object\n",
      "direccion_estacion_origen     object\n",
      "capacidad_estacion_origen     float64\n",
      "lat_estacion_origen           float64\n",
      "long_estacion_origen          float64\n",
      "duracion_recorrido            object\n",
      "fecha_destino_recorrido       object\n",
      "id_estacion_destino           object\n",
      "nombre_estacion_destino       object\n",
      "direccion_estacion_destino    object\n",
      "capacidad_estacion_destino    float64\n",
      "lat_estacion_destino          float64\n",
      "long_estacion_destino         float64\n",
      "servicio                      object\n",
      "dtypes: float64(7), object(12)\n",
      "memory usage: 413.2+ MB\n"
     ]
    }
   ],
   "source": [
    "df.info()"
   ]
  },
  {
   "cell_type": "code",
   "execution_count": 8,
   "metadata": {
    "slideshow": {
     "slide_type": "subslide"
    }
   },
   "outputs": [
    {
     "data": {
      "text/html": [
       "<div>\n",
       "<style scoped>\n",
       "    .dataframe tbody tr th:only-of-type {\n",
       "        vertical-align: middle;\n",
       "    }\n",
       "\n",
       "    .dataframe tbody tr th {\n",
       "        vertical-align: top;\n",
       "    }\n",
       "\n",
       "    .dataframe thead th {\n",
       "        text-align: right;\n",
       "    }\n",
       "</style>\n",
       "<table border=\"1\" class=\"dataframe\">\n",
       "  <thead>\n",
       "    <tr style=\"text-align: right;\">\n",
       "      <th></th>\n",
       "      <th>id_usuario</th>\n",
       "      <th>edad_usuario</th>\n",
       "      <th>genero_usuario</th>\n",
       "      <th>fecha_origen_recorrido</th>\n",
       "      <th>id_estacion_origen</th>\n",
       "      <th>nombre_estacion_origen</th>\n",
       "      <th>direccion_estacion_origen</th>\n",
       "      <th>capacidad_estacion_origen</th>\n",
       "      <th>lat_estacion_origen</th>\n",
       "      <th>long_estacion_origen</th>\n",
       "      <th>duracion_recorrido</th>\n",
       "      <th>fecha_destino_recorrido</th>\n",
       "      <th>id_estacion_destino</th>\n",
       "      <th>nombre_estacion_destino</th>\n",
       "      <th>direccion_estacion_destino</th>\n",
       "      <th>capacidad_estacion_destino</th>\n",
       "      <th>lat_estacion_destino</th>\n",
       "      <th>long_estacion_destino</th>\n",
       "      <th>servicio</th>\n",
       "    </tr>\n",
       "  </thead>\n",
       "  <tbody>\n",
       "    <tr>\n",
       "      <th>0</th>\n",
       "      <td>137063_0</td>\n",
       "      <td>26.0</td>\n",
       "      <td>FEMENINO</td>\n",
       "      <td>2019-01-07 17:06:49</td>\n",
       "      <td>156.0</td>\n",
       "      <td>Plaza Alemania</td>\n",
       "      <td>Plaza Alemania: Del Libertador Av y Cavia</td>\n",
       "      <td>NaN</td>\n",
       "      <td>-34.577849</td>\n",
       "      <td>-58.407966</td>\n",
       "      <td>0 days 00:24:48.000000000</td>\n",
       "      <td>2019-01-07 17:31:37</td>\n",
       "      <td>170.0</td>\n",
       "      <td>San Luis y Ecuador</td>\n",
       "      <td>San Luis 2862 entre Ecuador y Boulogne Sur Mer</td>\n",
       "      <td>NaN</td>\n",
       "      <td>-34.599733</td>\n",
       "      <td>-58.405966</td>\n",
       "      <td>antiguo</td>\n",
       "    </tr>\n",
       "    <tr>\n",
       "      <th>1</th>\n",
       "      <td>79103</td>\n",
       "      <td>NaN</td>\n",
       "      <td>NaN</td>\n",
       "      <td>2019-06-10 11:51:12</td>\n",
       "      <td>29.0</td>\n",
       "      <td>Parque Centenario</td>\n",
       "      <td>Patricias Argentinas Av. y Estivao</td>\n",
       "      <td>30.0</td>\n",
       "      <td>-34.607941</td>\n",
       "      <td>-58.433557</td>\n",
       "      <td>0 days 00:24:57.000000000</td>\n",
       "      <td>2019-06-10 12:16:09</td>\n",
       "      <td>87.0</td>\n",
       "      <td>Guayaquil</td>\n",
       "      <td>Guayaquil y Doblas</td>\n",
       "      <td>16.0</td>\n",
       "      <td>-34.619845</td>\n",
       "      <td>-58.431494</td>\n",
       "      <td>nuevo</td>\n",
       "    </tr>\n",
       "    <tr>\n",
       "      <th>2</th>\n",
       "      <td>387321</td>\n",
       "      <td>NaN</td>\n",
       "      <td>NaN</td>\n",
       "      <td>2019-07-30 15:20:38</td>\n",
       "      <td>289.0</td>\n",
       "      <td>BARRANCAS DE BELGRANO</td>\n",
       "      <td>Sucre, Antonio Jose De, Mcal. y Vertiz Virrey Av.</td>\n",
       "      <td>24.0</td>\n",
       "      <td>-34.559793</td>\n",
       "      <td>-58.448432</td>\n",
       "      <td>0 days 00:51:39.000000000</td>\n",
       "      <td>2019-07-30 16:12:17</td>\n",
       "      <td>175.0</td>\n",
       "      <td>Constitución</td>\n",
       "      <td>Garay, Juan De Av. 1050</td>\n",
       "      <td>36.0</td>\n",
       "      <td>-34.626741</td>\n",
       "      <td>-58.380935</td>\n",
       "      <td>nuevo</td>\n",
       "    </tr>\n",
       "    <tr>\n",
       "      <th>3</th>\n",
       "      <td>113196</td>\n",
       "      <td>NaN</td>\n",
       "      <td>NaN</td>\n",
       "      <td>2019-04-28 00:59:32</td>\n",
       "      <td>56.0</td>\n",
       "      <td>Plaza Palermo Viejo</td>\n",
       "      <td>Costa Rica y Armenia</td>\n",
       "      <td>16.0</td>\n",
       "      <td>-34.588567</td>\n",
       "      <td>-58.425999</td>\n",
       "      <td>0 days 00:21:24.000000000</td>\n",
       "      <td>2019-04-28 01:20:56</td>\n",
       "      <td>69.0</td>\n",
       "      <td>Ecuador</td>\n",
       "      <td>Ecuador 1226</td>\n",
       "      <td>16.0</td>\n",
       "      <td>-34.596101</td>\n",
       "      <td>-58.404609</td>\n",
       "      <td>nuevo</td>\n",
       "    </tr>\n",
       "    <tr>\n",
       "      <th>4</th>\n",
       "      <td>248012</td>\n",
       "      <td>NaN</td>\n",
       "      <td>NaN</td>\n",
       "      <td>2019-06-12 15:04:26</td>\n",
       "      <td>153.0</td>\n",
       "      <td>JUAN MANUEL DE BLANES</td>\n",
       "      <td>Blanes, Juan Manuel 383</td>\n",
       "      <td>16.0</td>\n",
       "      <td>-34.630777</td>\n",
       "      <td>-58.362070</td>\n",
       "      <td>0 days 00:13:16.000000000</td>\n",
       "      <td>2019-06-12 15:17:42</td>\n",
       "      <td>126.0</td>\n",
       "      <td>MINISTERIO DE JUSTICIA  Y SEGURIDAD</td>\n",
       "      <td>Regimiento De Patricios Av. y Araoz De Lamadri...</td>\n",
       "      <td>16.0</td>\n",
       "      <td>-34.640267</td>\n",
       "      <td>-58.369224</td>\n",
       "      <td>nuevo</td>\n",
       "    </tr>\n",
       "  </tbody>\n",
       "</table>\n",
       "</div>"
      ],
      "text/plain": [
       "  id_usuario  edad_usuario genero_usuario fecha_origen_recorrido  \\\n",
       "0   137063_0          26.0       FEMENINO    2019-01-07 17:06:49   \n",
       "1      79103           NaN            NaN    2019-06-10 11:51:12   \n",
       "2     387321           NaN            NaN    2019-07-30 15:20:38   \n",
       "3     113196           NaN            NaN    2019-04-28 00:59:32   \n",
       "4     248012           NaN            NaN    2019-06-12 15:04:26   \n",
       "\n",
       "  id_estacion_origen nombre_estacion_origen  \\\n",
       "0              156.0         Plaza Alemania   \n",
       "1               29.0      Parque Centenario   \n",
       "2              289.0  BARRANCAS DE BELGRANO   \n",
       "3               56.0    Plaza Palermo Viejo   \n",
       "4              153.0  JUAN MANUEL DE BLANES   \n",
       "\n",
       "                           direccion_estacion_origen  \\\n",
       "0          Plaza Alemania: Del Libertador Av y Cavia   \n",
       "1                 Patricias Argentinas Av. y Estivao   \n",
       "2  Sucre, Antonio Jose De, Mcal. y Vertiz Virrey Av.   \n",
       "3                               Costa Rica y Armenia   \n",
       "4                            Blanes, Juan Manuel 383   \n",
       "\n",
       "   capacidad_estacion_origen  lat_estacion_origen  long_estacion_origen  \\\n",
       "0                        NaN           -34.577849            -58.407966   \n",
       "1                       30.0           -34.607941            -58.433557   \n",
       "2                       24.0           -34.559793            -58.448432   \n",
       "3                       16.0           -34.588567            -58.425999   \n",
       "4                       16.0           -34.630777            -58.362070   \n",
       "\n",
       "          duracion_recorrido fecha_destino_recorrido id_estacion_destino  \\\n",
       "0  0 days 00:24:48.000000000     2019-01-07 17:31:37               170.0   \n",
       "1  0 days 00:24:57.000000000     2019-06-10 12:16:09                87.0   \n",
       "2  0 days 00:51:39.000000000     2019-07-30 16:12:17               175.0   \n",
       "3  0 days 00:21:24.000000000     2019-04-28 01:20:56                69.0   \n",
       "4  0 days 00:13:16.000000000     2019-06-12 15:17:42               126.0   \n",
       "\n",
       "               nombre_estacion_destino  \\\n",
       "0                   San Luis y Ecuador   \n",
       "1                            Guayaquil   \n",
       "2                         Constitución   \n",
       "3                              Ecuador   \n",
       "4  MINISTERIO DE JUSTICIA  Y SEGURIDAD   \n",
       "\n",
       "                          direccion_estacion_destino  \\\n",
       "0     San Luis 2862 entre Ecuador y Boulogne Sur Mer   \n",
       "1                                 Guayaquil y Doblas   \n",
       "2                            Garay, Juan De Av. 1050   \n",
       "3                                       Ecuador 1226   \n",
       "4  Regimiento De Patricios Av. y Araoz De Lamadri...   \n",
       "\n",
       "   capacidad_estacion_destino  lat_estacion_destino  long_estacion_destino  \\\n",
       "0                         NaN            -34.599733             -58.405966   \n",
       "1                        16.0            -34.619845             -58.431494   \n",
       "2                        36.0            -34.626741             -58.380935   \n",
       "3                        16.0            -34.596101             -58.404609   \n",
       "4                        16.0            -34.640267             -58.369224   \n",
       "\n",
       "  servicio  \n",
       "0  antiguo  \n",
       "1    nuevo  \n",
       "2    nuevo  \n",
       "3    nuevo  \n",
       "4    nuevo  "
      ]
     },
     "execution_count": 8,
     "metadata": {},
     "output_type": "execute_result"
    }
   ],
   "source": [
    "df.head()"
   ]
  },
  {
   "cell_type": "markdown",
   "metadata": {
    "slideshow": {
     "slide_type": "fragment"
    }
   },
   "source": [
    "El DataFrame debe contener al menos dos columnas con nombres de nodos (origen y destino) y cero o más columnas con atributos de las conexiones.\n",
    "\n",
    "**Cada fila se procesa como una conexión**."
   ]
  },
  {
   "cell_type": "code",
   "execution_count": 9,
   "metadata": {
    "slideshow": {
     "slide_type": "subslide"
    }
   },
   "outputs": [],
   "source": [
    "df['minutos_viaje'] = pd.to_timedelta(df.duracion_recorrido, unit='minute', errors='coerce')"
   ]
  },
  {
   "cell_type": "code",
   "execution_count": 10,
   "metadata": {
    "slideshow": {
     "slide_type": "fragment"
    }
   },
   "outputs": [
    {
     "data": {
      "text/html": [
       "<div>\n",
       "<style scoped>\n",
       "    .dataframe tbody tr th:only-of-type {\n",
       "        vertical-align: middle;\n",
       "    }\n",
       "\n",
       "    .dataframe tbody tr th {\n",
       "        vertical-align: top;\n",
       "    }\n",
       "\n",
       "    .dataframe thead th {\n",
       "        text-align: right;\n",
       "    }\n",
       "</style>\n",
       "<table border=\"1\" class=\"dataframe\">\n",
       "  <thead>\n",
       "    <tr style=\"text-align: right;\">\n",
       "      <th></th>\n",
       "      <th>nombre_estacion_origen</th>\n",
       "      <th>nombre_estacion_destino</th>\n",
       "      <th>minutos_viaje</th>\n",
       "    </tr>\n",
       "  </thead>\n",
       "  <tbody>\n",
       "    <tr>\n",
       "      <th>0</th>\n",
       "      <td>11 de septiembre</td>\n",
       "      <td>11 de septiembre</td>\n",
       "      <td>00:59:58.833333</td>\n",
       "    </tr>\n",
       "    <tr>\n",
       "      <th>1</th>\n",
       "      <td>11 de septiembre</td>\n",
       "      <td>Arribeños</td>\n",
       "      <td>00:08:51</td>\n",
       "    </tr>\n",
       "    <tr>\n",
       "      <th>2</th>\n",
       "      <td>11 de septiembre</td>\n",
       "      <td>BARRANCAS DE BELGRANO</td>\n",
       "      <td>00:14:15</td>\n",
       "    </tr>\n",
       "    <tr>\n",
       "      <th>3</th>\n",
       "      <td>11 de septiembre</td>\n",
       "      <td>Balbín</td>\n",
       "      <td>00:10:22</td>\n",
       "    </tr>\n",
       "    <tr>\n",
       "      <th>4</th>\n",
       "      <td>11 de septiembre</td>\n",
       "      <td>Catedral</td>\n",
       "      <td>00:54:11</td>\n",
       "    </tr>\n",
       "  </tbody>\n",
       "</table>\n",
       "</div>"
      ],
      "text/plain": [
       "  nombre_estacion_origen nombre_estacion_destino   minutos_viaje\n",
       "0       11 de septiembre        11 de septiembre 00:59:58.833333\n",
       "1       11 de septiembre               Arribeños        00:08:51\n",
       "2       11 de septiembre   BARRANCAS DE BELGRANO        00:14:15\n",
       "3       11 de septiembre                  Balbín        00:10:22\n",
       "4       11 de septiembre                Catedral        00:54:11"
      ]
     },
     "execution_count": 10,
     "metadata": {},
     "output_type": "execute_result"
    }
   ],
   "source": [
    "pre_grafo = df.groupby(['nombre_estacion_origen','nombre_estacion_destino']) \\\n",
    "    .minutos_viaje \\\n",
    "    .mean(numeric_only=False) \\\n",
    "    .to_frame() \\\n",
    "    .reset_index()\n",
    "\n",
    "pre_grafo.head()"
   ]
  },
  {
   "cell_type": "code",
   "execution_count": 13,
   "metadata": {
    "slideshow": {
     "slide_type": "subslide"
    }
   },
   "outputs": [],
   "source": [
    "estaciones = nx.convert_matrix.from_pandas_edgelist(\n",
    "    pre_grafo,\n",
    "    source='nombre_estacion_origen',\n",
    "    target='nombre_estacion_destino',\n",
    "    edge_attr='minutos_viaje',\n",
    "    create_using=nx.MultiDiGraph\n",
    ")"
   ]
  },
  {
   "cell_type": "code",
   "execution_count": 32,
   "metadata": {
    "slideshow": {
     "slide_type": "fragment"
    }
   },
   "outputs": [
    {
     "data": {
      "image/png": "[encoded data removed]",
      "text/plain": [
       "<Figure size 432x288 with 1 Axes>"
      ]
     },
     "metadata": {},
     "output_type": "display_data"
    }
   ],
   "source": [
    "nx.draw(estaciones)"
   ]
  },
  {
   "cell_type": "markdown",
   "metadata": {
    "slideshow": {
     "slide_type": "fragment"
    }
   },
   "source": [
    "😱 😱 😱"
   ]
  },
  {
   "cell_type": "markdown",
   "metadata": {
    "slideshow": {
     "slide_type": "slide"
    }
   },
   "source": [
    "## Práctica\n",
    "\n",
    "### Dataset\n",
    "\n",
    "https://data.buenosaires.gob.ar/dataset/bicicletas-publicas\n",
    "\n",
    "#### Más datasets\n",
    "\n",
    "https://snap.stanford.edu/data/"
   ]
  },
  {
   "cell_type": "markdown",
   "metadata": {
    "slideshow": {
     "slide_type": "subslide"
    }
   },
   "source": [
    "### Ideas\n",
    "\n",
    "* https://medium.com/@fcatalano/bicisendas-en-buenos-aires-a29f62bc9e7c — \"La red de bicicletas fue diagramada como un **grafo dirigido**. Esto, porque nos interesaba representar los recorridos realizados respetando el sentido de los viajes.\"\n",
    "\n",
    "  * Análisis exploratorio del dataset\n",
    "  * Análisis de *in-degree* y *out-degree*"
   ]
  },
  {
   "cell_type": "markdown",
   "metadata": {
    "slideshow": {
     "slide_type": "fragment"
    }
   },
   "source": [
    "* https://towardsdatascience.com/buenos-aires-bicycle-lanes-ii-1a40b13ccc25 — \"\\[...\\] we built a graph **where two users shared a link if and only if at least one of them had taken a bicycle at approximately the same time from the same station, and returned them together** (also to the same station).\"\n",
    "\n",
    "  * Distribución grados\n",
    "  * Análisis exploratorio del grafo"
   ]
  },
  {
   "cell_type": "markdown",
   "metadata": {
    "slideshow": {
     "slide_type": "fragment"
    }
   },
   "source": [
    "* https://medium.com/@martinpalazzo/buenos-aires-bicycle-lanes-iii-d0ca4539e767 — \"The first step to understand the communities of stations is to build a network where each node is a station and **each edge between station is the quantity of bicycle journeys**.\"\n",
    "\n",
    "  * Modularidad"
   ]
  }
 ],
 "metadata": {
  "celltoolbar": "Slideshow",
  "kernelspec": {
   "display_name": "Python 3",
   "language": "python",
   "name": "python3"
  },
  "language_info": {
   "codemirror_mode": {
    "name": "ipython",
    "version": 3
   },
   "file_extension": ".py",
   "mimetype": "text/x-python",
   "name": "python",
   "nbconvert_exporter": "python",
   "pygments_lexer": "ipython3",
   "version": "3.7.3"
  }
 },
 "nbformat": 4,
 "nbformat_minor": 4
}
