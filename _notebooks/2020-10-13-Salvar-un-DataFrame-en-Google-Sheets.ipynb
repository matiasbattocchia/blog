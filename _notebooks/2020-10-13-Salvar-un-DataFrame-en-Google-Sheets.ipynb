{
 "cells": [
  {
   "cell_type": "markdown",
   "metadata": {},
   "source": [
    "# Salvar un DataFrame en Google Sheets\n",
    "> \"ฅ^•ﻌ•^ฅ Para poder comunicarlo al público en general\"\n",
    "\n",
    "- toc: false\n",
    "- branch: master\n",
    "- badges: true\n",
    "- comments: true\n",
    "- author: Matías Battocchia\n",
    "- categories: [pandas]"
   ]
  },
  {
   "cell_type": "markdown",
   "metadata": {},
   "source": [
    "Este es uno de los mejores trucos que aprendí trabajando en [Mutt Data](https://muttdata.ai). Del lado del desarrollo, en el día a día, trabajar con Pandas es de lo más común, tanto para análisis exploratorio de datos como manipulación de datos en general. Cuando existen otras partes interesadas en un proyecto, sobre todo personas de negocio, la comunicación es esencial y en Mutt nos iba bastante bien sacando a la luz `DataFrame`s por medio de Google Sheets — ambos están hechos para trabajar con datos tabulares y lo bueno de los documentos de Google es que son fáciles de compartir y que las personas de negocio están acostumbradas a interactuar con hojas de cálculo."
   ]
  },
  {
   "cell_type": "markdown",
   "metadata": {},
   "source": [
    "El paquete que vamos a usar se llama [gspread](https://gspread.readthedocs.io) y es una API en Python para Google Sheets.\n",
    "\n",
    "    pip install gspread"
   ]
  },
  {
   "cell_type": "markdown",
   "metadata": {},
   "source": [
    "## Autenticación\n",
    "\n",
    "Vamos a necesitar una cuenta de servicio —que es un archivo con credenciales— para habilitar a nuestro programa a escribir en Google Sheets. Estas son las instrucciones.\n",
    "\n",
    "1. Ir a la [consola](https://console.cloud.google.com) de Google Cloud Platform (GCP) y crear un proyecto nuevo o seleccionar uno existente (yo creé `mi-proyecto`). Si nunca usaste GCP, vas a tener algunos pasos adicionales.\n",
    "2. En la barra de *Buscar productos y recursos* buscar **Google Drive API** y habilitarla.\n",
    "3. En la barra de *Buscar productos y recursos* buscar **Google Sheets API** y habilitarla.\n",
    "4. En la barra de *Buscar productos y recursos* buscar **cuentas de servicio**, en esa página:\n",
    "  5. **+ Crear cuenta de servicio**, completar el formulario; con el nombre de la cuenta de servicio es suficiente (yo elegí `google-sheets`).\n",
    "  6. Una vez creada, seleccionarla para entrar en los detalles de la cuenta.\n",
    "  7. `Claves > Agregar clave > Crear clave nueva > JSON > Crear`. Aceptar la descarga de la cuenta de servicio. En mi caso, de `mi-proyecto-80a030363d28.json`.\n",
    "  8. Mover el archivo a la carpeta de trabajo. Debe estar en lugar seguro.\n",
    "\n",
    "La cuenta de servicio servirá para todas las planillas de cálculo que necesitemos dentro de un mismo proyecto de GCP."
   ]
  },
  {
   "cell_type": "markdown",
   "metadata": {},
   "source": [
    "## Acceso a la hoja de cálculo\n",
    "\n",
    "Este paso es mucho muy importante, **debe realizarse cada vez que utilicemos una hoja de cálculo nueva**.\n",
    "\n",
    "Ir a la hoja de cálculo y compartirla con el correo electrónico de la cuenta de servicio (es el que figura en el detalle de la cuenta) de la misma manera que haríamos para compartírsela a otra persona mediante su cuenta de correo.\n",
    "\n",
    "En mi caso, tengo que compartir las hojas con `google-sheets@mi-proyecto.iam.gserviceaccount.com`.\n"
   ]
  },
  {
   "cell_type": "markdown",
   "metadata": {},
   "source": [
    "## Pandas\n",
    "\n",
    "Esta es la función que utilizo para escribir un `DataFrame` en Google Sheets. Hay algunas conversiones de tipos de datos, ya que Pandas y Google Sheets no manejan los mismos tipos."
   ]
  },
  {
   "cell_type": "code",
   "execution_count": 9,
   "metadata": {},
   "outputs": [],
   "source": [
    "import gspread\n",
    "\n",
    "GSHEETS_CREDENTIALS = 'mi-proyecto-80a030363d28.json'\n",
    "\n",
    "\n",
    "def save_to_gsheets(df, sheet_name, worksheet_name='Sheet1'):\n",
    "    client = gspread.service_account(GSHEETS_CREDENTIALS)\n",
    "    sheet = client.open(sheet_name)\n",
    "\n",
    "    worksheet = sheet.worksheet(worksheet_name)\n",
    "\n",
    "    # convertimos el tipo de las columnas que sean datetime a string\n",
    "    for column in df.columns[df.dtypes == 'datetime64[ns]']:\n",
    "        df[column] = df[column].astype(str)\n",
    "\n",
    "    # reemplazamos valores NaN por strings vacíos\n",
    "    worksheet.update([df.columns.values.tolist()] + df.fillna('').values.tolist())\n",
    "\n",
    "    print(f'DataFrame escrito en la hoja {sheet_name} / {worksheet_name}.')"
   ]
  },
  {
   "cell_type": "markdown",
   "metadata": {},
   "source": [
    "Vamos con un ejemplo:"
   ]
  },
  {
   "cell_type": "code",
   "execution_count": 5,
   "metadata": {},
   "outputs": [
    {
     "data": {
      "text/html": [
       "<div>\n",
       "<style scoped>\n",
       "    .dataframe tbody tr th:only-of-type {\n",
       "        vertical-align: middle;\n",
       "    }\n",
       "\n",
       "    .dataframe tbody tr th {\n",
       "        vertical-align: top;\n",
       "    }\n",
       "\n",
       "    .dataframe thead th {\n",
       "        text-align: right;\n",
       "    }\n",
       "</style>\n",
       "<table border=\"1\" class=\"dataframe\">\n",
       "  <thead>\n",
       "    <tr style=\"text-align: right;\">\n",
       "      <th></th>\n",
       "      <th>A</th>\n",
       "      <th>B</th>\n",
       "      <th>C</th>\n",
       "      <th>D</th>\n",
       "    </tr>\n",
       "  </thead>\n",
       "  <tbody>\n",
       "    <tr>\n",
       "      <th>0</th>\n",
       "      <td>80</td>\n",
       "      <td>61</td>\n",
       "      <td>9</td>\n",
       "      <td>52</td>\n",
       "    </tr>\n",
       "    <tr>\n",
       "      <th>1</th>\n",
       "      <td>17</td>\n",
       "      <td>98</td>\n",
       "      <td>55</td>\n",
       "      <td>77</td>\n",
       "    </tr>\n",
       "    <tr>\n",
       "      <th>2</th>\n",
       "      <td>4</td>\n",
       "      <td>52</td>\n",
       "      <td>5</td>\n",
       "      <td>99</td>\n",
       "    </tr>\n",
       "    <tr>\n",
       "      <th>3</th>\n",
       "      <td>3</td>\n",
       "      <td>93</td>\n",
       "      <td>36</td>\n",
       "      <td>99</td>\n",
       "    </tr>\n",
       "    <tr>\n",
       "      <th>4</th>\n",
       "      <td>99</td>\n",
       "      <td>45</td>\n",
       "      <td>51</td>\n",
       "      <td>39</td>\n",
       "    </tr>\n",
       "    <tr>\n",
       "      <th>5</th>\n",
       "      <td>69</td>\n",
       "      <td>62</td>\n",
       "      <td>3</td>\n",
       "      <td>23</td>\n",
       "    </tr>\n",
       "    <tr>\n",
       "      <th>6</th>\n",
       "      <td>93</td>\n",
       "      <td>34</td>\n",
       "      <td>90</td>\n",
       "      <td>88</td>\n",
       "    </tr>\n",
       "  </tbody>\n",
       "</table>\n",
       "</div>"
      ],
      "text/plain": [
       "    A   B   C   D\n",
       "0  80  61   9  52\n",
       "1  17  98  55  77\n",
       "2   4  52   5  99\n",
       "3   3  93  36  99\n",
       "4  99  45  51  39\n",
       "5  69  62   3  23\n",
       "6  93  34  90  88"
      ]
     },
     "execution_count": 5,
     "metadata": {},
     "output_type": "execute_result"
    }
   ],
   "source": [
    "import numpy as np\n",
    "import pandas as pd\n",
    "\n",
    "df = pd.DataFrame(np.random.randint(0, 100, size=(7, 4)), columns=list('ABCD'))\n",
    "\n",
    "df"
   ]
  },
  {
   "cell_type": "markdown",
   "metadata": {},
   "source": [
    "Previamente tuve que crear la hoja `Ejemplo Pandas` y darle acceso a la cuenta de servicio."
   ]
  },
  {
   "cell_type": "code",
   "execution_count": 10,
   "metadata": {},
   "outputs": [
    {
     "name": "stdout",
     "output_type": "stream",
     "text": [
      "DataFrame escrito en la hoja Ejemplo Pandas / Sheet1.\n"
     ]
    }
   ],
   "source": [
    "save_to_gsheets(df, 'Ejemplo Pandas', worksheet_name='Sheet1')"
   ]
  },
  {
   "cell_type": "markdown",
   "metadata": {},
   "source": [
    "Este es el resultado 📝.\n",
    "\n",
    "![](images/pandas_gsheets.png)"
   ]
  }
 ],
 "metadata": {
  "kernelspec": {
   "display_name": "Python 3",
   "language": "python",
   "name": "python3"
  },
  "language_info": {
   "codemirror_mode": {
    "name": "ipython",
    "version": 3
   },
   "file_extension": ".py",
   "mimetype": "text/x-python",
   "name": "python",
   "nbconvert_exporter": "python",
   "pygments_lexer": "ipython3",
   "version": "3.7.3"
  }
 },
 "nbformat": 4,
 "nbformat_minor": 4
}
