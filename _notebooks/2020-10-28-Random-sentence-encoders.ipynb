{
 "cells": [
  {
   "cell_type": "markdown",
   "metadata": {
    "slideshow": {
     "slide_type": "slide"
    }
   },
   "source": [
    "# Random encoders for sentence classification\n",
    "> \"🐱 Codificadores aleatorios para embeddings de oraciones\"\n",
    "\n",
    "- toc: false\n",
    "- branch: master\n",
    "- badges: true\n",
    "- comments: true\n",
    "- author: Matías Battocchia\n",
    "- categories: [nlp,charla,paper]"
   ]
  },
  {
   "cell_type": "markdown",
   "metadata": {
    "slideshow": {
     "slide_type": "slide"
    }
   },
   "source": [
    "Charla basada en este paper:\n",
    "\n",
    "https://arxiv.org/pdf/1901.10444.pdf\n",
    "\n",
    "> A complex pattern-classification problem, cast in a high-dimensional space nonlinearly, is more likely to be linearly separable than in a low-dimensional space, provided that the space is not densely populated.\n",
    "\n",
    "— Cover, T. M."
   ]
  },
  {
   "cell_type": "markdown",
   "metadata": {
    "slideshow": {
     "slide_type": "slide"
    }
   },
   "source": [
    "## Word embeddings\n",
    "\n",
    "Palabra $\\rightarrow$ tóken.\n",
    "\n",
    "Embedding: representación de densa y de baja dimensionalidad de un tóken."
   ]
  },
  {
   "cell_type": "markdown",
   "metadata": {
    "slideshow": {
     "slide_type": "subslide"
    }
   },
   "source": [
    "Aproximaciones no supervisadas basadas en la [hipótesis distribucional](https://en.wikipedia.org/wiki/Distributional_semantics): palabras que ocurren en el mismo contexto tienden a tener significados similares.\n",
    "\n",
    "![](images/word_embedding1.png)"
   ]
  },
  {
   "cell_type": "markdown",
   "metadata": {
    "slideshow": {
     "slide_type": "subslide"
    }
   },
   "source": [
    "Word embeddings pre-entrenados:\n",
    "* word2vec\n",
    "* GloVe\n",
    "* fastText\n",
    "* ELMo"
   ]
  },
  {
   "cell_type": "markdown",
   "metadata": {},
   "source": [
    "## Sentence embeddings\n",
    "\n",
    "Oración $\\rightarrow$ documento.\n",
    "\n",
    "Técnica sencilla y aceptable: **max** o **mean** de los tókenes del documento."
   ]
  },
  {
   "cell_type": "markdown",
   "metadata": {},
   "source": [
    "La intención es usar un clasificador sobre los embeddings de documentos (*downstream task*).\n",
    "\n",
    "![](images/sentence_embedding2.png)"
   ]
  },
  {
   "cell_type": "markdown",
   "metadata": {},
   "source": [
    "O simplemente una medida de similaridad.\n",
    "\n",
    "![](images/sentence_embedding1.png)"
   ]
  },
  {
   "cell_type": "markdown",
   "metadata": {},
   "source": [
    "## Tareas y datasets\n",
    "\n",
    "https://arxiv.org/pdf/1705.02364.pdf\n",
    "\n",
    "#### Clasificación\n",
    "\n",
    "* sentiment analysis (MR, SST),\n",
    "* product reviews (CR),\n",
    "* subjectivity (SUBJ),\n",
    "* opinion polarity (MPQA),\n",
    "* question-type (TREC).\n",
    "\n",
    "![](images/senteval1.png)"
   ]
  },
  {
   "cell_type": "markdown",
   "metadata": {},
   "source": [
    "#### Inferencia y similaridad semántica\n",
    "\n",
    "* entailment (SNLI, SICK-E),\n",
    "* semantic relatedness (SICK-R, STS),\n",
    "* paraphrasing (MRPC)."
   ]
  },
  {
   "cell_type": "markdown",
   "metadata": {},
   "source": [
    "![](images/senteval2.png)"
   ]
  },
  {
   "cell_type": "markdown",
   "metadata": {},
   "source": [
    "## Encoders entrenados"
   ]
  },
  {
   "cell_type": "markdown",
   "metadata": {},
   "source": [
    "$h = f_θ(e_1, \\ldots, e_n)$\n",
    "\n",
    "* Interesa obtener una representación $h$ de una **oración**,\n",
    "* usando alguna función $f$ parametrizada por $θ$,\n",
    "* en función de embeddings pre-entrenados $e$ donde $e_i$ es la representación de la i-ésima **palabra** en una oración de largo $n$.\n",
    "\n",
    "Típicamente los codificadores aprenden $θ$, parámetros que luego se mantien fijos en las tareas de transferencia."
   ]
  },
  {
   "cell_type": "markdown",
   "metadata": {},
   "source": [
    "### InferSent\n",
    "\n",
    "https://arxiv.org/abs/1705.02364\n",
    "\n",
    "Supervisado usando el corpus Stanford Natural Language Inference (SNLI). Requiere una gran cantidad de anotaciones.\n",
    "\n",
    "![](images/infersent1.png)\n",
    "\n",
    "![](images/infersent2.png)"
   ]
  },
  {
   "cell_type": "markdown",
   "metadata": {},
   "source": [
    "### Skip-Thought\n",
    "\n",
    "https://arxiv.org/abs/1506.06726\n",
    "\n",
    "No supervisado. En vez de predecir las palabras que envuelven a una palabra (*skip-gram*), predice las oraciones alrededor de una oración dada. Entrenarlo lleva un tiempo muy largo.\n",
    "\n",
    "![](images/seq2seq.png)\n",
    "\n",
    "![](images/skip-thought.png)"
   ]
  },
  {
   "cell_type": "markdown",
   "metadata": {},
   "source": [
    "## Random encoders\n",
    "\n",
    "Diferentes maneras de parametrizar $f$ para representar el significado de oraciones sin ningún entrenamiento de $θ$."
   ]
  },
  {
   "cell_type": "markdown",
   "metadata": {},
   "source": [
    "### Bag of random embedding projections\n",
    "\n",
    "$X = (e_1, \\ldots, e_n)$\n",
    "\n",
    "* $X ∈ \\mathbb{R}^{n×D}$.\n",
    "* $n$ es el tamaño del documento, $D$ es la dimensión de los *word embeddings*.\n",
    "\n",
    "$h = f_{\\text{pool}}(X W)$\n",
    "\n",
    "* $W ∈ \\mathbb{R}^{D×d}$ se inicializa al azar usando una distribución uniforme entre $[\\frac{−1}{\\sqrt{d}}, \\frac{1}{\\sqrt{d}}]$.\n",
    "* $D$ es la dimensión de los *word embeddings*, $d$ es la dimensión de la proyección.\n",
    "* $f_{\\text{pool}} = \\text{max}$ (*max pooling*) o $f_{\\text{pool}} = \\text{mean}$ (*mean pooling*)."
   ]
  },
  {
   "cell_type": "markdown",
   "metadata": {},
   "source": [
    "### Random LSTMs\n",
    "\n",
    "$h =  f_{\\text{pool}}(\\text{BiLSTM}(e_1, \\ldots, e_n))$\n",
    "\n",
    "* Los pesos se inicializan al azar usando una distribución uniforme entre $[\\frac{−1}{\\sqrt{d}}, \\frac{1}{\\sqrt{d}}]$.\n",
    "* $d$ es la dimensión del estado oculto de la LSTM."
   ]
  },
  {
   "cell_type": "markdown",
   "metadata": {},
   "source": [
    "### Echo state networks (ESNs)\n",
    "\n",
    "![](images/esn1.png)\n",
    "\n",
    "![](images/esn2.jpg)\n",
    "\n",
    "$(\\hat y_1, \\ldots, \\hat y_n) = \\text{ESN}(e_1, \\ldots, e_n)$\n",
    "\n",
    "Descripción formal de una ESN:\n",
    "\n",
    "$\\tilde h_i = f_{\\text{act}} (W^i e_i + W^h h_{i−1} + b^i)$\n",
    "\n",
    "$h_i = (1−α) h_{i−1} + α \\tilde h_i$\n",
    "\n",
    "* $W^i$, $W^h$, $b^i$ son inicializados al azar y no se actualizan durante el entrenamiento.\n",
    "* $α ∈ (0,1]$ es el grado de mezcla entre el estado previo y el actual.\n",
    "\n",
    "$\\hat y_i = W^o [e_i;h_i] + b^o$\n",
    "\n",
    "* $W^o$, $b^o$ son los únicos parametros que se entrenan.\n",
    "* $\\hat y_i$ es la predicción para $y_i$.\n",
    "* **NO SE USA**.\n",
    "\n",
    "$h = f_{\\text{pool}}(\\text{BiESN}(e_1, \\ldots, e_n))$\n",
    "\n",
    "* Se utiliza una ESN bidireccional, los estados del reservorio de ambas direcciones se concatenan $h_i = [\\overrightarrow{h_i};\\overleftarrow{h_i}]$.\n",
    "* Mediante *pooling* de estos estados se obtiene la representación de la oración $h$.\n",
    "\n",
    "La *echo state property* clama que el estado del reservorio debe ser únicamente determinada por la historia de entrada y que los efectos de un estado dado deben disminuir en favor de estados más recientes. En la práctica esta propiedad se satisface asegurando que el valor absoluto del autovalor más grande de $W^h$ sea menor que 1. "
   ]
  },
  {
   "cell_type": "markdown",
   "metadata": {},
   "source": [
    "### Resultados\n",
    "\n",
    "![](images/random.png)"
   ]
  },
  {
   "cell_type": "markdown",
   "metadata": {},
   "source": [
    "## Parte 2: Código\n",
    "\n",
    "https://github.com/dair-ai/emotion_dataset\n",
    "\n",
    "    sadness 😢\n",
    "    joy 😃\n",
    "    love 🥰\n",
    "    anger 😡\n",
    "    fear 😱\n",
    "    surprise 😯"
   ]
  },
  {
   "cell_type": "code",
   "execution_count": 2,
   "metadata": {},
   "outputs": [
    {
     "data": {
      "text/plain": [
       "joy         141067\n",
       "sadness     121187\n",
       "anger        57317\n",
       "fear         47712\n",
       "love         34554\n",
       "surprise     14972\n",
       "Name: emotions, dtype: int64"
      ]
     },
     "execution_count": 2,
     "metadata": {},
     "output_type": "execute_result"
    }
   ],
   "source": [
    "import pandas as pd\n",
    "\n",
    "pd.set_option('max_colwidth', 400)\n",
    "\n",
    "df = pd.read_pickle('datasets/emotions.pkl')\n",
    "\n",
    "df.emotions.value_counts()"
   ]
  },
  {
   "cell_type": "code",
   "execution_count": 3,
   "metadata": {},
   "outputs": [
    {
     "name": "stdout",
     "output_type": "stream",
     "text": [
      "SADNESS\n",
      "* i feel helpless for him\n",
      "* i reiterate what i m feeling now what s the matter you want to be unhappy\n",
      "* i possibly feel heartbroken about being rejected by a lewd cartoon wearing ignorant redneck hick\n",
      "* i always awake feeling devastated and missing her terribly\n",
      "* ive had this weird feeling ever since i broke up with katelin\n",
      "\n",
      "\n",
      "JOY\n",
      "* i was feeling adventurous now i am a seasoned and experienced ahem baker i wanted to sex up the lamington with a new flavour\n",
      "* i have ample money in fact in a relatively poor place like kolkata i feel over privileged\n",
      "* im feeling all bouncy and happy\n",
      "* im feeling very smart right now\n",
      "* i remember dreaming that i was sitting next to pippa our labrador who had died a year earlier and feeling very content just to sit next to her\n",
      "\n",
      "\n",
      "LOVE\n",
      "* i don t know why p feels my heart grow tender as i look at your familiar beloved face i don t kid myself about jane\n",
      "* i am feeling a longing for the familiar and comfortable but i am getting what i wanted\n",
      "* i wouldnt have cared but i was still feeling horny after reading erotic stories i read a few and although the a href http www\n",
      "* ive got a decent handle on rorik and dill i feel like i can work more with the supporting characters\n",
      "* im feeling very sympathetic for at the moment\n",
      "\n",
      "\n",
      "ANGER\n",
      "* i feel for kyle brady and as much as i fear the onslaught of obnoxious giants fans that was one hell of a super bowl they played\n",
      "* i was on a walk with my child when i met a drunk woman\n",
      "* im feeling really really pissed at many many things\n",
      "* i mean i feel pissed off when i read hemingway\n",
      "* i feel hated i feel despised i feel like everyone has it out for me and i dont know what to do\n",
      "\n",
      "\n",
      "FEAR\n",
      "* i feel all shaky and awed like laura dern\n",
      "* i can stop feeling so agitated\n",
      "* i did feel less distressed too\n",
      "* when my brother had an epileptic attack and i was scared as to what would happen to him\n",
      "* i still feel nervous and i still worry but god has shown me that trust doesn t mean calmness it means trusting despite not feeling calm\n",
      "\n",
      "\n",
      "SURPRISE\n",
      "* i wouldn t feel how i do i feel maybe a little shocked not sure why\n",
      "* i reported feeling my insides swirl as she glanced at me sincerely and genuinely curious and it was written all over her face\n",
      "* i think we get really caught up looking at everyone s instagrams and facebook pictures and start to get that feeling of everyone is having the most amazing time except for me what am i doing wrong\n",
      "* i feel like he s not too impressed by fancy food though\n",
      "* i know everyone expects me to post funny or absurd things but today im not feeling funny\n",
      "\n",
      "\n"
     ]
    }
   ],
   "source": [
    "for emotion in df.emotions.unique():\n",
    "    sample = df.query(f'emotions == @emotion').sample(5)\n",
    "    \n",
    "    print(emotion.upper())\n",
    "    \n",
    "    for _, text in sample.text.items():\n",
    "        print('* ' + text)\n",
    "    \n",
    "    print('\\n')"
   ]
  },
  {
   "cell_type": "markdown",
   "metadata": {},
   "source": [
    "Revisando las muestras nos damos cuentas de que es un dataset bastante polémico."
   ]
  },
  {
   "cell_type": "markdown",
   "metadata": {},
   "source": [
    "### Tokenización"
   ]
  },
  {
   "cell_type": "code",
   "execution_count": 4,
   "metadata": {},
   "outputs": [
    {
     "data": {
      "text/plain": [
       "['i', 'was', 'feeling', 'a', 'little', 'low', 'few', 'days', 'back']"
      ]
     },
     "execution_count": 4,
     "metadata": {},
     "output_type": "execute_result"
    }
   ],
   "source": [
    "docs = [doc.split() for doc in df.text]\n",
    "\n",
    "docs[3]"
   ]
  },
  {
   "cell_type": "markdown",
   "metadata": {},
   "source": [
    "### Indexación"
   ]
  },
  {
   "cell_type": "code",
   "execution_count": 5,
   "metadata": {
    "jupyter": {
     "source_hidden": true
    }
   },
   "outputs": [],
   "source": [
    "# versión 6\n",
    "import numpy as np\n",
    "from itertools import chain\n",
    "from collections import Counter\n",
    "import torch\n",
    "from tqdm import tqdm\n",
    "\n",
    "class Vocab():\n",
    "    @property\n",
    "    def índice_relleno(self):\n",
    "        return self.mapeo.get(self.tóken_relleno)\n",
    "    \n",
    "    def __init__(self, tóken_desconocido='<unk>', tóken_relleno='<pad>', frecuencia_mínima=0.0, frecuencia_máxima=1.0,\n",
    "                 longitud_mínima=1, longitud_máxima=np.inf, stop_words=[], límite_vocabulario=None):\n",
    "        \n",
    "        self.tóken_desconocido = tóken_desconocido\n",
    "        self.tóken_relleno = tóken_relleno\n",
    "        self.frecuencia_mínima = frecuencia_mínima\n",
    "        self.frecuencia_máxima = frecuencia_máxima\n",
    "        self.longitud_mínima = longitud_mínima\n",
    "        self.longitud_máxima = longitud_máxima\n",
    "        self.stop_words = stop_words\n",
    "        self.límite_vocabulario = límite_vocabulario\n",
    "    \n",
    "    def reducir_vocabulario(self, lote):\n",
    "        contador_absoluto = Counter(chain(*lote))\n",
    "        \n",
    "        contador_documentos = Counter()\n",
    "        \n",
    "        for doc in lote:\n",
    "            contador_documentos.update(set(doc))\n",
    "        \n",
    "        # frecuencia mínima\n",
    "        if isinstance(self.frecuencia_mínima, int): # frecuencia de tóken\n",
    "            vocabulario_mín = [tóken for tóken, frecuencia in contador_absoluto.most_common() if frecuencia >= self.frecuencia_mínima]\n",
    "        else: # frecuencia de documento\n",
    "            vocabulario_mín = [tóken for tóken, frecuencia in contador_documentos.most_common() if frecuencia/len(lote) >= self.frecuencia_mínima]\n",
    "        \n",
    "        # frecuencia máxima\n",
    "        if isinstance(self.frecuencia_máxima, int): # frecuencia de tóken\n",
    "            vocabulario_máx = [tóken for tóken, frecuencia in contador_absoluto.most_common() if self.frecuencia_máxima >= frecuencia]\n",
    "        else: # frecuencia de documento\n",
    "            vocabulario_máx = [tóken for tóken, frecuencia in contador_documentos.most_common() if self.frecuencia_máxima >= frecuencia/len(lote)]\n",
    "\n",
    "        # intersección de vocabulario_mín y vocabulario_máx preservando el órden\n",
    "        if len(vocabulario_mín) == len(vocabulario_máx):\n",
    "            vocabulario = vocabulario_mín\n",
    "        else:\n",
    "            vocabulario = [tóken for tóken in tqdm(vocabulario_mín, 'Procesando documentos') if tóken in vocabulario_máx]\n",
    "\n",
    "        # longitud\n",
    "        vocabulario = [tóken for tóken in vocabulario if self.longitud_máxima >= len(tóken) >= self.longitud_mínima]\n",
    "        \n",
    "        # stop words\n",
    "        vocabulario = [tóken for tóken in vocabulario if tóken not in self.stop_words]\n",
    "        \n",
    "        # límite\n",
    "        vocabulario = vocabulario[:self.límite_vocabulario]\n",
    "        \n",
    "        return vocabulario\n",
    "        \n",
    "    def fit(self, lote):\n",
    "        vocabulario = []\n",
    "        \n",
    "        if self.tóken_relleno:\n",
    "            vocabulario.append(self.tóken_relleno)\n",
    "        \n",
    "        if self.tóken_desconocido:\n",
    "            vocabulario.append(self.tóken_desconocido)\n",
    "        \n",
    "        vocabulario += self.reducir_vocabulario(lote)\n",
    "        \n",
    "        self.mapeo = {tóken: índice for índice, tóken in enumerate(vocabulario)}\n",
    "\n",
    "        return self\n",
    "\n",
    "    def transform(self, lote):\n",
    "        if self.tóken_desconocido: # reemplazar\n",
    "            return [[tóken if tóken in self.mapeo else self.tóken_desconocido for tóken in doc] for doc in lote]\n",
    "        else: # ignorar\n",
    "            return [[tóken for tóken in doc if tóken in self.mapeo] for doc in lote]\n",
    "    \n",
    "    def tókenes_a_índices(self, lote):\n",
    "        lote = self.transform(lote)\n",
    "        \n",
    "        return [[self.mapeo[tóken] for tóken in doc] for doc in lote]\n",
    "    \n",
    "    def índices_a_tókenes(self, lote):\n",
    "        mapeo_inverso = list(self.mapeo.keys())\n",
    "        \n",
    "        return [[mapeo_inverso[índice] for índice in doc] for doc in lote]\n",
    "    \n",
    "    def __len__(self):\n",
    "        return len(self.mapeo)\n",
    "    \n",
    "    @property\n",
    "    def vocabulario(self):\n",
    "        return list(v.mapeo.keys())\n",
    "\n",
    "    def obtener_embeddings(self, fastText):\n",
    "\n",
    "        embeddings = [\n",
    "            fastText[tóken] for tóken in self.vocabulario\n",
    "            if tóken not in (self.tóken_desconocido, self.tóken_relleno)\n",
    "        ]\n",
    "        \n",
    "        embeddings = torch.stack( list( map(torch.tensor, embeddings) ) )\n",
    "\n",
    "        if self.tóken_desconocido:\n",
    "            unk = embeddings.mean(dim=0, keepdim=True)\n",
    "            embeddings = torch.cat([unk, embeddings])\n",
    "\n",
    "        if self.tóken_relleno:\n",
    "            pad = torch.zeros(1, fastText.get_dimension())\n",
    "            embeddings = torch.cat([pad, embeddings])\n",
    "\n",
    "        return embeddings"
   ]
  },
  {
   "cell_type": "code",
   "execution_count": 6,
   "metadata": {},
   "outputs": [
    {
     "data": {
      "text/plain": [
       "75302"
      ]
     },
     "execution_count": 6,
     "metadata": {},
     "output_type": "execute_result"
    }
   ],
   "source": [
    "v = Vocab(tóken_desconocido=None, tóken_relleno=None)\n",
    "\n",
    "v.fit(docs)\n",
    "\n",
    "len(v)"
   ]
  },
  {
   "cell_type": "code",
   "execution_count": 7,
   "metadata": {},
   "outputs": [
    {
     "data": {
      "text/plain": [
       "[[0, 23, 5, 6, 53, 409, 187, 162, 98]]"
      ]
     },
     "execution_count": 7,
     "metadata": {},
     "output_type": "execute_result"
    }
   ],
   "source": [
    "v.tókenes_a_índices([['i', 'was', 'feeling', 'a', 'little', 'low', 'few', 'days', 'back']])"
   ]
  },
  {
   "cell_type": "markdown",
   "metadata": {},
   "source": [
    "### Representaciones pre-entrenadas"
   ]
  },
  {
   "cell_type": "code",
   "execution_count": 8,
   "metadata": {},
   "outputs": [],
   "source": [
    "import fasttext\n",
    "import fasttext.util\n",
    "\n",
    "fasttext.util.download_model('en', if_exists='ignore')\n",
    "ft = fasttext.load_model('cc.en.300.bin')"
   ]
  },
  {
   "cell_type": "code",
   "execution_count": 9,
   "metadata": {},
   "outputs": [
    {
     "data": {
      "text/plain": [
       "torch.Size([75302, 300])"
      ]
     },
     "execution_count": 9,
     "metadata": {},
     "output_type": "execute_result"
    }
   ],
   "source": [
    "e = v.obtener_embeddings(ft)\n",
    "\n",
    "e.shape"
   ]
  },
  {
   "cell_type": "code",
   "execution_count": 10,
   "metadata": {},
   "outputs": [],
   "source": [
    "idxs = v.tókenes_a_índices(docs)"
   ]
  },
  {
   "cell_type": "code",
   "execution_count": 11,
   "metadata": {},
   "outputs": [
    {
     "data": {
      "text/plain": [
       "torch.Size([9, 300])"
      ]
     },
     "execution_count": 11,
     "metadata": {},
     "output_type": "execute_result"
    }
   ],
   "source": [
    "# i was feeling little low few days back\n",
    "\n",
    "x = e[ idxs[3] ]\n",
    "\n",
    "x.shape"
   ]
  },
  {
   "cell_type": "markdown",
   "metadata": {},
   "source": [
    "### Representaciones de oraciones"
   ]
  },
  {
   "cell_type": "code",
   "execution_count": 12,
   "metadata": {},
   "outputs": [
    {
     "data": {
      "text/plain": [
       "torch.Size([300, 512])"
      ]
     },
     "execution_count": 12,
     "metadata": {},
     "output_type": "execute_result"
    }
   ],
   "source": [
    "D = 300\n",
    "d = 512\n",
    "\n",
    "w = torch.empty(D, d)\n",
    "\n",
    "w = torch.nn.init.uniform_(w, -1/np.sqrt(d), 1/np.sqrt(d))\n",
    "\n",
    "w.shape"
   ]
  },
  {
   "cell_type": "code",
   "execution_count": 13,
   "metadata": {},
   "outputs": [
    {
     "data": {
      "text/plain": [
       "torch.Size([9, 512])"
      ]
     },
     "execution_count": 13,
     "metadata": {},
     "output_type": "execute_result"
    }
   ],
   "source": [
    "xw = torch.mm(x, w)\n",
    "\n",
    "xw.shape"
   ]
  },
  {
   "cell_type": "code",
   "execution_count": 14,
   "metadata": {},
   "outputs": [
    {
     "data": {
      "text/plain": [
       "torch.Size([512])"
      ]
     },
     "execution_count": 14,
     "metadata": {},
     "output_type": "execute_result"
    }
   ],
   "source": [
    "xw.max(dim=0).values.shape"
   ]
  },
  {
   "cell_type": "code",
   "execution_count": 15,
   "metadata": {},
   "outputs": [
    {
     "name": "stderr",
     "output_type": "stream",
     "text": [
      "100%|██████████| 416809/416809 [01:59<00:00, 3493.89it/s]\n"
     ]
    }
   ],
   "source": [
    "s = torch.stack( [ torch.mm(e[doc], w).max(dim=0).values for doc in tqdm(idxs) ] )"
   ]
  },
  {
   "cell_type": "markdown",
   "metadata": {},
   "source": [
    "### Representaciones de emociones"
   ]
  },
  {
   "cell_type": "code",
   "execution_count": 16,
   "metadata": {},
   "outputs": [],
   "source": [
    "emo = [\n",
    "    ['sadness'],\n",
    "    ['joy'],\n",
    "    ['love'],\n",
    "    ['anger'],\n",
    "    ['fear'],\n",
    "    ['surprise'],\n",
    "]\n",
    "\n",
    "emo_idxs = v.tókenes_a_índices(emo)"
   ]
  },
  {
   "cell_type": "code",
   "execution_count": 17,
   "metadata": {},
   "outputs": [],
   "source": [
    "emo_sents = [ torch.mm(e[doc], w).max(dim=0).values for doc in emo_idxs ]"
   ]
  },
  {
   "cell_type": "markdown",
   "metadata": {},
   "source": [
    "### Distancia entre oraciones"
   ]
  },
  {
   "cell_type": "code",
   "execution_count": 18,
   "metadata": {},
   "outputs": [
    {
     "data": {
      "text/plain": [
       "tensor([8635.8857])"
      ]
     },
     "execution_count": 18,
     "metadata": {},
     "output_type": "execute_result"
    }
   ],
   "source": [
    "d = torch.nn.PairwiseDistance(p=.5)\n",
    "\n",
    "d(emo_sents[0].reshape(1,-1), emo_sents[1].reshape(1,-1))"
   ]
  },
  {
   "cell_type": "code",
   "execution_count": 21,
   "metadata": {},
   "outputs": [
    {
     "name": "stderr",
     "output_type": "stream",
     "text": [
      "\n",
      "  0%|          | 0/6 [00:00<?, ?it/s]\u001b[A\n",
      " 17%|█▋        | 1/6 [01:00<04:58, 59.71s/it]\u001b[A\n",
      " 33%|███▎      | 2/6 [01:03<02:51, 42.80s/it]\u001b[A\n",
      " 50%|█████     | 3/6 [01:06<01:32, 30.87s/it]\u001b[A\n",
      " 67%|██████▋   | 4/6 [01:09<00:45, 22.77s/it]\u001b[A\n",
      " 83%|████████▎ | 5/6 [01:12<00:16, 16.75s/it]\u001b[A\n",
      "100%|██████████| 6/6 [01:14<00:00, 12.48s/it]\u001b[A\n"
     ]
    },
    {
     "data": {
      "text/plain": [
       "torch.Size([416809, 6])"
      ]
     },
     "execution_count": 21,
     "metadata": {},
     "output_type": "execute_result"
    }
   ],
   "source": [
    "dist = torch.stack( [d(s, sent) for sent in tqdm(emo_sents)], dim=1 )\n",
    "\n",
    "dist.shape"
   ]
  },
  {
   "cell_type": "code",
   "execution_count": 22,
   "metadata": {},
   "outputs": [],
   "source": [
    "y_pred = dist.min(dim=1).indices"
   ]
  },
  {
   "cell_type": "markdown",
   "metadata": {},
   "source": [
    "### Métricas"
   ]
  },
  {
   "cell_type": "code",
   "execution_count": 24,
   "metadata": {},
   "outputs": [],
   "source": [
    "labels = {\n",
    "    'sadness':0,\n",
    "    'joy':1,\n",
    "    'love':2,\n",
    "    'anger':3,\n",
    "    'fear':4,\n",
    "    'surprise':5,\n",
    "}\n",
    "\n",
    "df['y_true'] = df.emotions.map(labels)"
   ]
  },
  {
   "cell_type": "code",
   "execution_count": 25,
   "metadata": {},
   "outputs": [
    {
     "name": "stdout",
     "output_type": "stream",
     "text": [
      "              precision    recall  f1-score   support\n",
      "\n",
      "     sadness       0.43      0.00      0.01    121187\n",
      "         joy       0.51      0.00      0.01    141067\n",
      "        love       0.17      0.03      0.05     34554\n",
      "       anger       0.14      0.23      0.18     57317\n",
      "        fear       0.11      0.19      0.14     47712\n",
      "    surprise       0.04      0.56      0.07     14972\n",
      "\n",
      "    accuracy                           0.08    416809\n",
      "   macro avg       0.23      0.17      0.07    416809\n",
      "weighted avg       0.35      0.08      0.05    416809\n",
      "\n"
     ]
    }
   ],
   "source": [
    "from sklearn.metrics import classification_report\n",
    "\n",
    "print(classification_report(df.y_true, y_pred, target_names=labels))"
   ]
  },
  {
   "cell_type": "markdown",
   "metadata": {},
   "source": [
    "Muy tristes estos resultados 😢. Quizás random sentence encoders funcione más para entrenar clasificadores más que para medidas de similaridad."
   ]
  }
 ],
 "metadata": {
  "kernelspec": {
   "display_name": "Python 3",
   "language": "python",
   "name": "python3"
  },
  "language_info": {
   "codemirror_mode": {
    "name": "ipython",
    "version": 3
   },
   "file_extension": ".py",
   "mimetype": "text/x-python",
   "name": "python",
   "nbconvert_exporter": "python",
   "pygments_lexer": "ipython3",
   "version": "3.7.3"
  }
 },
 "nbformat": 4,
 "nbformat_minor": 4
}
