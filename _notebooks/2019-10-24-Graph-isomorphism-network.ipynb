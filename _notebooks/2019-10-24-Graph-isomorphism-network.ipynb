{
 "cells": [
  {
   "cell_type": "markdown",
   "metadata": {},
   "source": [
    "# Graph isomorphism networks\n",
    "\n",
    "> \" /ᐠ｡▿｡ᐟ\\\\*ᵖᵘʳʳ* Redes neuronales de grafos, la moda que se viene\"\n",
    "\n",
    "- toc: true\n",
    "- branch: master\n",
    "- badges: true\n",
    "- comments: true\n",
    "- author: Matías Battocchia\n",
    "- categories: [pytorch,grafos,paper]"
   ]
  },
  {
   "cell_type": "markdown",
   "metadata": {},
   "source": [
    "Estas notas corresponden a la sección de código de una charla que di en el seminario [MachinLenin](https://twitter.com/machinlenin) en 2019. Esta es la [presentación](https://docs.google.com/presentation/d/1y9-4LMrm0UPqwYYBWwTMn-ixBazD8-nRnr6EIn53Nig/edit?usp=sharing) que usé y este el [repositorio](https://github.com/matiasbattocchia/gin).\n",
    "\n",
    "Esta es una implementación simple, con fines didácticos y para nada eficiente de la publicación [How powerful are graph neural networks?](https://arxiv.org/pdf/1810.00826.pdf). Para una implementación eficiente ver [GINConv](https://docs.dgl.ai/api/python/nn.pytorch.html#ginconv) de Deep Graph Library (DGL).\n",
    "\n",
    "La publicación mencionada fue la que elegí para comenzar a aprender sobre redes neuronales de grafos (*graph neural networks* o GNN). Unas redes interesantes porque no todo es texto, ni todo son imágenes, ni tablas... una vasta cantidad de información se representa en forma de grafo, y estas redes se especializan en esta estructura de datos."
   ]
  },
  {
   "cell_type": "markdown",
   "metadata": {},
   "source": [
    "## Publicaciones\n",
    "\n",
    "Hoy en día si tuviese que recomendar lecturas introductorias, serían los *reviews* de esta lista.\n",
    "\n",
    "**Reviews**\n",
    "\n",
    "* [Benchmarking Graph Neural Networks](https://arxiv.org/pdf/2003.00982.pdf)\n",
    "* [Representation Learning on Graphs: Methods and Applications](https://arxiv.org/abs/1709.05584) | http://snap.stanford.edu/proj/embeddings-www/\n",
    "\n",
    "**Arquitecturas**\n",
    "\n",
    "* [GAT](https://arxiv.org/pdf/1710.10903)\n",
    "* [GIN](https://arxiv.org/pdf/1810.00826)\n",
    "* [GCN](https://arxiv.org/abs/1609.02907)\n",
    "* [GraphSAGE](https://arxiv.org/pdf/1706.02216.pdf)"
   ]
  },
  {
   "cell_type": "code",
   "execution_count": 2,
   "metadata": {},
   "outputs": [],
   "source": [
    "import torch\n",
    "import networkx as nx\n",
    "\n",
    "%matplotlib inline"
   ]
  },
  {
   "cell_type": "markdown",
   "metadata": {},
   "source": [
    "## Adjacency matrix"
   ]
  },
  {
   "cell_type": "code",
   "execution_count": 4,
   "metadata": {},
   "outputs": [
    {
     "data": {
      "image/png": "[encoded data removed]",
      "text/plain": [
       "<Figure size 432x288 with 1 Axes>"
      ]
     },
     "metadata": {},
     "output_type": "display_data"
    }
   ],
   "source": [
    "G = nx.binomial_graph(5,0.5)\n",
    "\n",
    "# TODO: numerar los nodos en el gráfico\n",
    "nx.draw(G)"
   ]
  },
  {
   "cell_type": "code",
   "execution_count": 5,
   "metadata": {},
   "outputs": [
    {
     "data": {
      "text/plain": [
       "tensor([[0., 0., 1., 1., 0.],\n",
       "        [0., 0., 0., 1., 1.],\n",
       "        [1., 0., 0., 1., 1.],\n",
       "        [1., 1., 1., 0., 1.],\n",
       "        [0., 1., 1., 1., 0.]])"
      ]
     },
     "execution_count": 5,
     "metadata": {},
     "output_type": "execute_result"
    }
   ],
   "source": [
    "A = torch.tensor( nx.adjacency_matrix(G).todense(), dtype=torch.float32 )\n",
    "\n",
    "A"
   ]
  },
  {
   "cell_type": "code",
   "execution_count": 6,
   "metadata": {},
   "outputs": [
    {
     "data": {
      "text/plain": [
       "tensor([[0., 1.],\n",
       "        [0., 0.],\n",
       "        [1., 0.],\n",
       "        [0., 0.],\n",
       "        [0., 0.]])"
      ]
     },
     "execution_count": 6,
     "metadata": {},
     "output_type": "execute_result"
    }
   ],
   "source": [
    "X = torch.randint(low=0, high=2, size=(5,2), dtype=torch.float32)\n",
    "\n",
    "X"
   ]
  },
  {
   "cell_type": "code",
   "execution_count": 7,
   "metadata": {},
   "outputs": [
    {
     "data": {
      "text/plain": [
       "tensor([[1., 0.],\n",
       "        [0., 0.],\n",
       "        [0., 1.],\n",
       "        [1., 1.],\n",
       "        [1., 0.]])"
      ]
     },
     "execution_count": 7,
     "metadata": {},
     "output_type": "execute_result"
    }
   ],
   "source": [
    "A @ X"
   ]
  },
  {
   "cell_type": "markdown",
   "metadata": {},
   "source": [
    "## Dataset"
   ]
  },
  {
   "cell_type": "code",
   "execution_count": 51,
   "metadata": {},
   "outputs": [],
   "source": [
    "import torch.utils.data\n",
    "\n",
    "import importlib  \n",
    "gnns = importlib.import_module('powerful-gnns.util')\n",
    "\n",
    "class GraphDataset(torch.utils.data.Dataset):\n",
    "    \"\"\" Levanta los datasets de Powerful-GNNS. \"\"\"\n",
    "    \n",
    "    def __init__(self, dataset, degree_as_tag=False):\n",
    "        self.data, self.classes = gnns.load_data(dataset, degree_as_tag)\n",
    "        \n",
    "        self.features = self.data[0].node_features.shape[1]\n",
    "        \n",
    "    def __len__(self):\n",
    "        return len(self.data)\n",
    "    \n",
    "    def __getitem__(self, idx):\n",
    "        graph = self.data[idx]\n",
    "        adjacency_matrix = nx.adjacency_matrix( graph.g ).todense()\n",
    "        \n",
    "        item = {}\n",
    "\n",
    "        item['adjacency_matrix'] = torch.tensor(adjacency_matrix, dtype=torch.float32)\n",
    "        item['node_features'] = graph.node_features\n",
    "        item['label'] = graph.label\n",
    "        \n",
    "        return item"
   ]
  },
  {
   "cell_type": "code",
   "execution_count": 52,
   "metadata": {},
   "outputs": [
    {
     "name": "stdout",
     "output_type": "stream",
     "text": [
      "loading data\n",
      "# classes: 2\n",
      "# maximum node tag: 3\n",
      "# data: 1113\n"
     ]
    }
   ],
   "source": [
    "DS = GraphDataset('PROTEINS')"
   ]
  },
  {
   "cell_type": "code",
   "execution_count": 41,
   "metadata": {},
   "outputs": [],
   "source": [
    "DL = torch.utils.data.DataLoader(DS)"
   ]
  },
  {
   "cell_type": "markdown",
   "metadata": {},
   "source": [
    "## Net modules"
   ]
  },
  {
   "cell_type": "code",
   "execution_count": 66,
   "metadata": {},
   "outputs": [],
   "source": [
    "class GINConv(torch.nn.Module):\n",
    "    def __init__(self, hidden_dim):\n",
    "        super().__init__()\n",
    "        \n",
    "        self.linear = torch.nn.Linear(hidden_dim, hidden_dim)\n",
    "\n",
    "    def forward(self, A, X):\n",
    "        \"\"\"\n",
    "        Params\n",
    "        ------\n",
    "        A [batch x nodes x nodes]: adjacency matrix\n",
    "        X [batch x nodes x features]: node features matrix\n",
    "        \n",
    "        Returns\n",
    "        -------\n",
    "        X' [batch x nodes x features]: updated node features matrix\n",
    "        \"\"\"\n",
    "        X = self.linear(X + A @ X)\n",
    "        X = torch.nn.functional.relu(X)\n",
    "        \n",
    "        return X"
   ]
  },
  {
   "cell_type": "code",
   "execution_count": 73,
   "metadata": {},
   "outputs": [],
   "source": [
    "class GNN(torch.nn.Module):\n",
    "    \n",
    "    def __init__(self, input_dim, hidden_dim, output_dim, n_layers):\n",
    "        super().__init__()\n",
    "        \n",
    "        self.in_proj = torch.nn.Linear(input_dim, hidden_dim)\n",
    "        \n",
    "        self.convs = torch.nn.ModuleList()\n",
    "        \n",
    "        for _ in range(n_layers):\n",
    "            self.convs.append(GINConv(hidden_dim))\n",
    "        \n",
    "        # In order to perform graph classification, each hidden state\n",
    "        # [batch x nodes x hidden_dim] is concatenated, resulting in\n",
    "        # [batch x nodes x hiddem_dim*(1+n_layers)], then aggregated\n",
    "        # along nodes dimension, without keeping that dimension:\n",
    "        # [batch x hiddem_dim*(1+n_layers)].\n",
    "        self.out_proj = torch.nn.Linear(hidden_dim*(1+n_layers), output_dim)\n",
    "\n",
    "    def forward(self, A, X):\n",
    "        X = self.in_proj(X)\n",
    "\n",
    "        hidden_states = [X]\n",
    "        \n",
    "        for layer in self.convs:\n",
    "            X = layer(A, X)\n",
    "            hidden_states.append(X)\n",
    "\n",
    "        X = torch.cat(hidden_states, dim=2).sum(dim=1)\n",
    "\n",
    "        X = self.out_proj(X)\n",
    "\n",
    "        return X"
   ]
  },
  {
   "cell_type": "markdown",
   "metadata": {},
   "source": [
    "## Train loop"
   ]
  },
  {
   "cell_type": "code",
   "execution_count": 77,
   "metadata": {},
   "outputs": [
    {
     "name": "stdout",
     "output_type": "stream",
     "text": [
      "0 - loss: 1.2691171061103663\n",
      "1 - loss: 0.32851389047806046\n",
      "2 - loss: 0.944981049655904\n",
      "3 - loss: 0.2894633889519622\n",
      "4 - loss: 0.3056941165221455\n"
     ]
    }
   ],
   "source": [
    "model = GNN(input_dim=DS.features, hidden_dim=3, output_dim=DS.classes, n_layers=3)\n",
    "\n",
    "criterion = torch.nn.CrossEntropyLoss()\n",
    "optimizer = torch.optim.Adam(model.parameters(), lr=0.01)\n",
    "\n",
    "EPOCHS = 5\n",
    "\n",
    "for epoch in range(EPOCHS):\n",
    "    running_loss = 0.0\n",
    "    \n",
    "    for i, batch in enumerate(DL):\n",
    "        A = batch['adjacency_matrix']\n",
    "        X = batch['node_features']\n",
    "        labels = batch['label']\n",
    "                \n",
    "        optimizer.zero_grad()\n",
    "\n",
    "        outputs = model(A, X)\n",
    "        loss = criterion(outputs, labels)\n",
    "        loss.backward()\n",
    "        optimizer.step()\n",
    "\n",
    "        running_loss += loss.item()\n",
    "    \n",
    "    print(f'{epoch} - loss: {running_loss/(i+1)}')"
   ]
  },
  {
   "cell_type": "markdown",
   "metadata": {},
   "source": [
    "## TODO\n",
    "\n",
    "* Dropout\n",
    "* Mini-batches (`collate_fn` for padding)\n",
    "* Batch normalization\n",
    "\n",
    "* Extended neighborhood `X = self.linear(X + A @ X + A**2 @ X)`\n",
    "* Node classification\n",
    "* Link prediction"
   ]
  }
 ],
 "metadata": {
  "kernelspec": {
   "display_name": "Python 3",
   "language": "python",
   "name": "python3"
  },
  "language_info": {
   "codemirror_mode": {
    "name": "ipython",
    "version": 3
   },
   "file_extension": ".py",
   "mimetype": "text/x-python",
   "name": "python",
   "nbconvert_exporter": "python",
   "pygments_lexer": "ipython3",
   "version": "3.7.3"
  }
 },
 "nbformat": 4,
 "nbformat_minor": 4
}
